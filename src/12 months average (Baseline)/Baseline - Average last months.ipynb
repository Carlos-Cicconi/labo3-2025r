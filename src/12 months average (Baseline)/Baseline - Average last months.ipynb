{
 "cells": [
  {
   "cell_type": "markdown",
   "id": "7eb9891d",
   "metadata": {},
   "source": [
    "# Promedio de los últimos 12 meses para cada producto "
   ]
  },
  {
   "cell_type": "code",
   "execution_count": 1,
   "id": "9d3a6c0a",
   "metadata": {},
   "outputs": [],
   "source": [
    "# EJECUTAR LIBRERIAS\n",
    "import os\n",
    "import pandas as pd"
   ]
  },
  {
   "cell_type": "code",
   "execution_count": 2,
   "id": "e0980428",
   "metadata": {},
   "outputs": [
    {
     "name": "stdout",
     "output_type": "stream",
     "text": [
      "   periodo  customer_id  product_id  plan_precios_cuidados  cust_request_qty  \\\n",
      "0   201701        10234       20524                      0                 2   \n",
      "1   201701        10032       20524                      0                 1   \n",
      "2   201701        10217       20524                      0                 1   \n",
      "3   201701        10125       20524                      0                 1   \n",
      "4   201701        10012       20524                      0                11   \n",
      "5   201701        10080       20524                      0                 1   \n",
      "6   201701        10015       20524                      0                 4   \n",
      "7   201701        10062       20524                      0                 1   \n",
      "8   201701        10159       20524                      0                 3   \n",
      "9   201701        10183       20524                      0                 1   \n",
      "\n",
      "   cust_request_tn       tn  \n",
      "0          0.05300  0.05300  \n",
      "1          0.13628  0.13628  \n",
      "2          0.03028  0.03028  \n",
      "3          0.02271  0.02271  \n",
      "4          1.54452  1.54452  \n",
      "5          0.01514  0.01514  \n",
      "6          0.10600  0.10600  \n",
      "7          0.18928  0.18928  \n",
      "8          0.02271  0.02271  \n",
      "9          0.01514  0.01514  \n"
     ]
    }
   ],
   "source": [
    "# LEEMOS LOS DATOS\n",
    "drive_base_path = 'C:/Repositorios-Ing.Carlos-Cicconi/labo3-2025r/Data/'\n",
    "filename = 'sell-in.txt'\n",
    "filepath = os.path.join(drive_base_path, filename)\n",
    "sell = pd.read_csv(filepath, sep='\\t')\n",
    "print(sell.head(10))\n",
    "\n",
    "filename = 'product_id_apredecir201912.txt'\n",
    "filepath = os.path.join(drive_base_path, filename)\n",
    "a_predecir = pd.read_csv(filepath, sep='\\t')"
   ]
  },
  {
   "cell_type": "code",
   "execution_count": 3,
   "id": "47872ab8",
   "metadata": {},
   "outputs": [
    {
     "name": "stdout",
     "output_type": "stream",
     "text": [
      "Cantidad de valores distintos en \"periodo\": 36\n"
     ]
    }
   ],
   "source": [
    "# Veo la cantidad de valores distintos en \"periodo\"\n",
    "num_periodos = sell['periodo'].nunique()\n",
    "print(f'Cantidad de valores distintos en \"periodo\": {num_periodos}')"
   ]
  },
  {
   "cell_type": "code",
   "execution_count": 5,
   "id": "04bf8fff",
   "metadata": {},
   "outputs": [
    {
     "name": "stdout",
     "output_type": "stream",
     "text": [
      "       periodo  product_id          tn\n",
      "0       201701       20001   934.77222\n",
      "1       201701       20002   550.15707\n",
      "2       201701       20003  1063.45835\n",
      "3       201701       20004   555.91614\n",
      "4       201701       20005   494.27011\n",
      "...        ...         ...         ...\n",
      "31238   201912       21265     0.05007\n",
      "31239   201912       21266     0.05121\n",
      "31240   201912       21267     0.01569\n",
      "31241   201912       21271     0.00298\n",
      "31242   201912       21276     0.00892\n",
      "\n",
      "[31243 rows x 3 columns]\n"
     ]
    }
   ],
   "source": [
    "# Agrupar y sumar\n",
    "sell_agrup = (\n",
    "    sell\n",
    "    .groupby(['periodo', 'product_id'], as_index=False)['tn']\n",
    "    .sum()\n",
    ")\n",
    "\n",
    "print(sell_agrup)"
   ]
  },
  {
   "cell_type": "code",
   "execution_count": 6,
   "id": "c46cc82a",
   "metadata": {},
   "outputs": [
    {
     "name": "stdout",
     "output_type": "stream",
     "text": [
      "       periodo  product_id          tn\n",
      "0       201701       20001   934.77222\n",
      "1       201701       20002   550.15707\n",
      "2       201701       20003  1063.45835\n",
      "3       201701       20004   555.91614\n",
      "4       201701       20005   494.27011\n",
      "...        ...         ...         ...\n",
      "31236   201912       21263     0.01270\n",
      "31238   201912       21265     0.05007\n",
      "31239   201912       21266     0.05121\n",
      "31240   201912       21267     0.01569\n",
      "31242   201912       21276     0.00892\n",
      "\n",
      "[22349 rows x 3 columns]\n"
     ]
    }
   ],
   "source": [
    "# Filtrar sell_agrup por los product_id presentes en a_predecir\n",
    "sell_agrup_filtrado = sell_agrup[sell_agrup['product_id'].isin(a_predecir['product_id'])]\n",
    "print(sell_agrup_filtrado)\n",
    "\n",
    "drive_base_path = 'C:/Repositorios-Ing.Carlos-Cicconi/labo3-2025r/Outputs/12 months average (Baseline)'\n",
    "filename = 'sell_agrup_filtrado.txt'\n",
    "filepath = os.path.join(drive_base_path, filename)\n",
    "\n",
    "# Guardar el DataFrame filtrado en un archivo de texto\n",
    "sell_agrup_filtrado.to_csv(filepath, sep='\\t', index=False)"
   ]
  },
  {
   "cell_type": "code",
   "execution_count": 7,
   "id": "57c5b5a9",
   "metadata": {},
   "outputs": [],
   "source": [
    "# Filtrar los períodos de interés\n",
    "periodos_interes = [201901, 201902, 201903, 201904, 201905, 201906,\n",
    "                    201907, 201908, 201909, 201910, 201911, 201912]\n",
    "sell_agrup_filtrado_pi = sell_agrup_filtrado[sell_agrup_filtrado['periodo'].isin(periodos_interes)]"
   ]
  },
  {
   "cell_type": "code",
   "execution_count": 8,
   "id": "88679164",
   "metadata": {},
   "outputs": [
    {
     "name": "stdout",
     "output_type": "stream",
     "text": [
      "     product_id           tn\n",
      "0         20001  1454.732720\n",
      "1         20002  1175.437142\n",
      "2         20003   784.976407\n",
      "3         20004   627.215328\n",
      "4         20005   668.270104\n",
      "..          ...          ...\n",
      "775       21263     0.029993\n",
      "776       21265     0.089541\n",
      "777       21266     0.094659\n",
      "778       21267     0.092835\n",
      "779       21276     0.045447\n",
      "\n",
      "[780 rows x 2 columns]\n"
     ]
    }
   ],
   "source": [
    "# Calcular el promedio de cust_request_tn por product_id\n",
    "promedio_12_meses = (\n",
    "    sell_agrup_filtrado_pi\n",
    "    .groupby('product_id', as_index=False)['tn']\n",
    "    .mean()\n",
    ")\n",
    "\n",
    "print(promedio_12_meses)\n",
    "filename = 'promedio_12_meses.csv'\n",
    "filepath = os.path.join(drive_base_path, filename)\n",
    "promedio_12_meses.to_csv(filepath, sep=',', index=False)"
   ]
  }
 ],
 "metadata": {
  "kernelspec": {
   "display_name": "base",
   "language": "python",
   "name": "python3"
  },
  "language_info": {
   "codemirror_mode": {
    "name": "ipython",
    "version": 3
   },
   "file_extension": ".py",
   "mimetype": "text/x-python",
   "name": "python",
   "nbconvert_exporter": "python",
   "pygments_lexer": "ipython3",
   "version": "3.12.4"
  }
 },
 "nbformat": 4,
 "nbformat_minor": 5
}
