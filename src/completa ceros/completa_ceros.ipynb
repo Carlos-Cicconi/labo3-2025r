{
 "cells": [
  {
   "cell_type": "markdown",
   "id": "97bfeac1",
   "metadata": {},
   "source": [
    "# Completa tabla de ventas con 0 (ceros)"
   ]
  },
  {
   "cell_type": "code",
   "execution_count": 1,
   "id": "55c624bb",
   "metadata": {},
   "outputs": [],
   "source": [
    "# EJECUTA LIBRERIAS\n",
    "import duckdb\n",
    "import os\n",
    "import pandas as pd"
   ]
  },
  {
   "cell_type": "code",
   "execution_count": 2,
   "id": "acd251c0",
   "metadata": {},
   "outputs": [
    {
     "name": "stdout",
     "output_type": "stream",
     "text": [
      "   periodo  customer_id  product_id  plan_precios_cuidados  cust_request_qty  \\\n",
      "0   201701        10234       20524                      0                 2   \n",
      "1   201701        10032       20524                      0                 1   \n",
      "2   201701        10217       20524                      0                 1   \n",
      "3   201701        10125       20524                      0                 1   \n",
      "4   201701        10012       20524                      0                11   \n",
      "5   201701        10080       20524                      0                 1   \n",
      "6   201701        10015       20524                      0                 4   \n",
      "7   201701        10062       20524                      0                 1   \n",
      "8   201701        10159       20524                      0                 3   \n",
      "9   201701        10183       20524                      0                 1   \n",
      "\n",
      "   cust_request_tn       tn  \n",
      "0          0.05300  0.05300  \n",
      "1          0.13628  0.13628  \n",
      "2          0.03028  0.03028  \n",
      "3          0.02271  0.02271  \n",
      "4          1.54452  1.54452  \n",
      "5          0.01514  0.01514  \n",
      "6          0.10600  0.10600  \n",
      "7          0.18928  0.18928  \n",
      "8          0.02271  0.02271  \n",
      "9          0.01514  0.01514  \n",
      "Datos leídos: 2945818 filas y 7 columnas\n",
      "Valores posibles plan precios cuidados: [0 1]\n"
     ]
    }
   ],
   "source": [
    "# LEEMOS LOS DATOS\n",
    "drive_base_path = 'C:/Repositorios-Ing.Carlos-Cicconi/labo3-2025r/Data/'\n",
    "filename = 'sell-in.txt'\n",
    "filepath = os.path.join(drive_base_path, filename)\n",
    "sell = pd.read_csv(filepath, sep='\\t')\n",
    "print(sell.head(10))\n",
    "print(f\"Datos leídos: {sell.shape[0]} filas y {sell.shape[1]} columnas\")\n",
    "print(f\"Valores posibles plan precios cuidados: {sell['plan_precios_cuidados'].unique()}\")"
   ]
  },
  {
   "cell_type": "code",
   "execution_count": 3,
   "id": "f531f5db",
   "metadata": {},
   "outputs": [
    {
     "name": "stdout",
     "output_type": "stream",
     "text": [
      "Cant. periodos: 36\n",
      "Cant. clientes: 597\n",
      "Cant. productos: 1233\n"
     ]
    }
   ],
   "source": [
    "# Determina cantidades de cada variable\n",
    "# Periodos\n",
    "periods = pd.DataFrame({'periodo': sell['periodo'].unique()})\n",
    "print(f\"Cant. periodos: {periods.shape[0]}\")\n",
    "# Clientes\n",
    "customers = pd.DataFrame({'customer_id': sell['customer_id'].unique()})\n",
    "print(f\"Cant. clientes: {customers.shape[0]}\")\n",
    "# Productos\n",
    "products = pd.DataFrame({'product_id': sell['product_id'].unique()})\n",
    "print(f\"Cant. productos: {products.shape[0]}\")"
   ]
  },
  {
   "cell_type": "code",
   "execution_count": 4,
   "id": "1fb05f0f",
   "metadata": {},
   "outputs": [],
   "source": [
    "# Genera dataset prod_born: primer periodo de aparición de cada product_id\n",
    "prod_born = (\n",
    "    sell.groupby('product_id', as_index=False)['periodo']\n",
    "    .min()\n",
    ")\n",
    "\n",
    "# Genera dataset cust_born: primer periodo de aparición de cada customer_id\n",
    "cust_born = (\n",
    "    sell.groupby('customer_id', as_index=False)['periodo']\n",
    "    .min()\n",
    ")\n",
    "\n",
    "# Genera dataset prod_dead: último periodo de aparición de cada product_id\n",
    "prod_dead = (\n",
    "    sell.groupby('product_id', as_index=False)['periodo']\n",
    "    .max()\n",
    ")"
   ]
  },
  {
   "cell_type": "code",
   "execution_count": 5,
   "id": "3fb43368",
   "metadata": {},
   "outputs": [
    {
     "name": "stdout",
     "output_type": "stream",
     "text": [
      "Cant. combinac. TOTALES: 26499636\n"
     ]
    }
   ],
   "source": [
    "# 1. Crear todas las combinaciones posibles usando DuckDB\n",
    "con = duckdb.connect()\n",
    "con.register('periodos', periods)\n",
    "con.register('clientes', customers)\n",
    "con.register('productos', products)\n",
    "con.register('sell', sell)\n",
    "\n",
    "query = \"\"\"\n",
    "SELECT \n",
    "    p.periodo, \n",
    "    c.customer_id, \n",
    "    pr.product_id\n",
    "FROM periodos p\n",
    "CROSS JOIN clientes c\n",
    "CROSS JOIN productos pr\n",
    "\"\"\"\n",
    "combinaciones = con.execute(query).df()\n",
    "print(f\"Cant. combinac. TOTALES: {combinaciones.shape[0]}\")"
   ]
  },
  {
   "cell_type": "code",
   "execution_count": 6,
   "id": "b1f823ca",
   "metadata": {},
   "outputs": [],
   "source": [
    "# 2. Hacer LEFT JOIN con sell para traer los valores, usando DuckDB\n",
    "con.register('combinaciones', combinaciones)\n",
    "\n",
    "query_full = \"\"\"\n",
    "SELECT \n",
    "    comb.periodo,\n",
    "    comb.customer_id,\n",
    "    comb.product_id,\n",
    "    COALESCE(s.plan_precios_cuidados, 0) AS plan_precios_cuidados,\n",
    "    COALESCE(s.cust_request_qty, 0) AS cust_request_qty,\n",
    "    COALESCE(s.cust_request_tn, 0) AS cust_request_tn,\n",
    "    COALESCE(s.tn, 0) AS tn\n",
    "FROM combinaciones comb\n",
    "FULL OUTER JOIN sell s\n",
    "    ON comb.periodo = s.periodo\n",
    "    AND comb.customer_id = s.customer_id\n",
    "    AND comb.product_id = s.product_id\n",
    "\"\"\"\n",
    "\n",
    "dataset_full = con.execute(query_full).df()"
   ]
  },
  {
   "cell_type": "code",
   "execution_count": 7,
   "id": "ef0af48c",
   "metadata": {},
   "outputs": [],
   "source": [
    "# Unir dataset_full con prod_born para traer el periodo de aparición de cada product_id\n",
    "dataset_full = dataset_full.merge(prod_born, on='product_id', how='left', suffixes=('', '_born'))\n",
    "# Filtrar: solo dejar los registros donde periodo >= periodo_born\n",
    "dataset_full = dataset_full[dataset_full['periodo'] >= dataset_full['periodo_born']]\n",
    "# (Opcional) Eliminar la columna auxiliar periodo_born\n",
    "dataset_full = dataset_full.drop(columns=['periodo_born'])"
   ]
  },
  {
   "cell_type": "code",
   "execution_count": 8,
   "id": "a09648fc",
   "metadata": {},
   "outputs": [],
   "source": [
    "# Unir dataset_full con prod_dead para traer el último periodo de cada product_id\n",
    "dataset_full = dataset_full.merge(prod_dead, on='product_id', how='left', suffixes=('', '_dead'))\n",
    "# Filtrar: solo dejar los registros donde periodo <= periodo_dead\n",
    "dataset_full = dataset_full[dataset_full['periodo'] <= dataset_full['periodo_dead']]\n",
    "# (Opcional) Eliminar la columna auxiliar periodo_dead\n",
    "dataset_full = dataset_full.drop(columns=['periodo_dead'])"
   ]
  },
  {
   "cell_type": "code",
   "execution_count": 9,
   "id": "219aeb8a",
   "metadata": {},
   "outputs": [],
   "source": [
    "# Unir dataset_full con cust_born para traer el periodo de aparición de cada customer_id\n",
    "dataset_full = dataset_full.merge(cust_born, on='customer_id', how='left', suffixes=('', '_born'))\n",
    "# Filtrar: solo dejar los registros donde periodo >= periodo_born\n",
    "dataset_full = dataset_full[dataset_full['periodo'] >= dataset_full['periodo_born']]\n",
    "# (Opcional) Eliminar la columna auxiliar periodo_born\n",
    "dataset_full = dataset_full.drop(columns=['periodo_born'])"
   ]
  },
  {
   "cell_type": "code",
   "execution_count": 10,
   "id": "8eecd5c6",
   "metadata": {},
   "outputs": [
    {
     "name": "stdout",
     "output_type": "stream",
     "text": [
      "Valores posibles plan precios cuidados: [0 1]\n"
     ]
    }
   ],
   "source": [
    "# Exportar el dataset depurado\n",
    "print(f\"Valores posibles plan precios cuidados: {dataset_full['plan_precios_cuidados'].unique()}\")\n",
    "\n",
    "drive_base_path = 'C:/Repositorios-Ing.Carlos-Cicconi/labo3-2025r/Outputs/completa ceros/'\n",
    "filename = 'sell_in_con_ceros.csv'\n",
    "filepath = os.path.join(drive_base_path, filename)\n",
    "dataset_full.to_csv(filepath, index=False)"
   ]
  },
  {
   "cell_type": "code",
   "execution_count": 11,
   "id": "62e72054",
   "metadata": {},
   "outputs": [],
   "source": [
    "# LEEMOS LOS DATOS PARA 'tb_productos.txt' y para 'tb_stocks.txt'\n",
    "drive_base_path = 'C:/Repositorios-Ing.Carlos-Cicconi/labo3-2025r/Data/'\n",
    "filename = 'tb_productos.txt'\n",
    "filepath = os.path.join(drive_base_path, filename)\n",
    "tb_productos = pd.read_csv(filepath, sep='\\t')\n",
    "\n",
    "filename = 'tb_stocks.txt'\n",
    "filepath = os.path.join(drive_base_path, filename)\n",
    "tb_stocks = pd.read_csv(filepath, sep='\\t')"
   ]
  },
  {
   "cell_type": "code",
   "execution_count": 12,
   "id": "d7f4a56b",
   "metadata": {},
   "outputs": [],
   "source": [
    "dataset_full_sell_prod = dataset_full.merge(tb_productos, \n",
    "                       on='product_id', \n",
    "                       how='left')"
   ]
  },
  {
   "cell_type": "code",
   "execution_count": 13,
   "id": "f1f20f2a",
   "metadata": {},
   "outputs": [
    {
     "name": "stdout",
     "output_type": "stream",
     "text": [
      "Datos leídos: 17173448 filas y 14 columnas\n"
     ]
    }
   ],
   "source": [
    "dataset_full_sell_prod_stk = dataset_full_sell_prod.merge(tb_stocks, \n",
    "                       on=['product_id', 'periodo'], \n",
    "                       how='left')\n",
    "\n",
    "drive_base_path = 'C:/Repositorios-Ing.Carlos-Cicconi/labo3-2025r/Outputs/completa ceros/'\n",
    "filename = 'sell_in_con_ceros_merged.csv'\n",
    "filepath = os.path.join(drive_base_path, filename)\n",
    "\n",
    "dataset_full_sell_prod_stk.to_csv(filepath, index=False)\n",
    "print(f\"Datos leídos: {dataset_full_sell_prod_stk.shape[0]} filas y {dataset_full_sell_prod_stk.shape[1]} columnas\")"
   ]
  }
 ],
 "metadata": {
  "kernelspec": {
   "display_name": "ldi2",
   "language": "python",
   "name": "python3"
  },
  "language_info": {
   "codemirror_mode": {
    "name": "ipython",
    "version": 3
   },
   "file_extension": ".py",
   "mimetype": "text/x-python",
   "name": "python",
   "nbconvert_exporter": "python",
   "pygments_lexer": "ipython3",
   "version": "3.12.4"
  }
 },
 "nbformat": 4,
 "nbformat_minor": 5
}
